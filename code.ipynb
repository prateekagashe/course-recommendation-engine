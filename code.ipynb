{
 "cells": [
  {
   "cell_type": "code",
   "execution_count": 1,
   "id": "42a9745b",
   "metadata": {},
   "outputs": [
    {
     "name": "stdout",
     "output_type": "stream",
     "text": [
      "Requirement already satisfied: pandas in /home/zadmin/Desktop/GAAI-B4-Azure/genai/lib/python3.12/site-packages (2.3.2)\n",
      "Requirement already satisfied: openai in /home/zadmin/Desktop/GAAI-B4-Azure/genai/lib/python3.12/site-packages (1.101.0)\n",
      "Requirement already satisfied: numpy>=1.26.0 in /home/zadmin/Desktop/GAAI-B4-Azure/genai/lib/python3.12/site-packages (from pandas) (2.3.2)\n",
      "Requirement already satisfied: python-dateutil>=2.8.2 in /home/zadmin/Desktop/GAAI-B4-Azure/genai/lib/python3.12/site-packages (from pandas) (2.9.0.post0)\n",
      "Requirement already satisfied: pytz>=2020.1 in /home/zadmin/Desktop/GAAI-B4-Azure/genai/lib/python3.12/site-packages (from pandas) (2025.2)\n",
      "Requirement already satisfied: tzdata>=2022.7 in /home/zadmin/Desktop/GAAI-B4-Azure/genai/lib/python3.12/site-packages (from pandas) (2025.2)\n",
      "Requirement already satisfied: anyio<5,>=3.5.0 in /home/zadmin/Desktop/GAAI-B4-Azure/genai/lib/python3.12/site-packages (from openai) (4.10.0)\n",
      "Requirement already satisfied: distro<2,>=1.7.0 in /home/zadmin/Desktop/GAAI-B4-Azure/genai/lib/python3.12/site-packages (from openai) (1.9.0)\n",
      "Requirement already satisfied: httpx<1,>=0.23.0 in /home/zadmin/Desktop/GAAI-B4-Azure/genai/lib/python3.12/site-packages (from openai) (0.28.1)\n",
      "Requirement already satisfied: jiter<1,>=0.4.0 in /home/zadmin/Desktop/GAAI-B4-Azure/genai/lib/python3.12/site-packages (from openai) (0.10.0)\n",
      "Requirement already satisfied: pydantic<3,>=1.9.0 in /home/zadmin/Desktop/GAAI-B4-Azure/genai/lib/python3.12/site-packages (from openai) (2.11.7)\n",
      "Requirement already satisfied: sniffio in /home/zadmin/Desktop/GAAI-B4-Azure/genai/lib/python3.12/site-packages (from openai) (1.3.1)\n",
      "Requirement already satisfied: tqdm>4 in /home/zadmin/Desktop/GAAI-B4-Azure/genai/lib/python3.12/site-packages (from openai) (4.67.1)\n",
      "Requirement already satisfied: typing-extensions<5,>=4.11 in /home/zadmin/Desktop/GAAI-B4-Azure/genai/lib/python3.12/site-packages (from openai) (4.15.0)\n",
      "Requirement already satisfied: idna>=2.8 in /home/zadmin/Desktop/GAAI-B4-Azure/genai/lib/python3.12/site-packages (from anyio<5,>=3.5.0->openai) (3.10)\n",
      "Requirement already satisfied: certifi in /home/zadmin/Desktop/GAAI-B4-Azure/genai/lib/python3.12/site-packages (from httpx<1,>=0.23.0->openai) (2025.8.3)\n",
      "Requirement already satisfied: httpcore==1.* in /home/zadmin/Desktop/GAAI-B4-Azure/genai/lib/python3.12/site-packages (from httpx<1,>=0.23.0->openai) (1.0.9)\n",
      "Requirement already satisfied: h11>=0.16 in /home/zadmin/Desktop/GAAI-B4-Azure/genai/lib/python3.12/site-packages (from httpcore==1.*->httpx<1,>=0.23.0->openai) (0.16.0)\n",
      "Requirement already satisfied: annotated-types>=0.6.0 in /home/zadmin/Desktop/GAAI-B4-Azure/genai/lib/python3.12/site-packages (from pydantic<3,>=1.9.0->openai) (0.7.0)\n",
      "Requirement already satisfied: pydantic-core==2.33.2 in /home/zadmin/Desktop/GAAI-B4-Azure/genai/lib/python3.12/site-packages (from pydantic<3,>=1.9.0->openai) (2.33.2)\n",
      "Requirement already satisfied: typing-inspection>=0.4.0 in /home/zadmin/Desktop/GAAI-B4-Azure/genai/lib/python3.12/site-packages (from pydantic<3,>=1.9.0->openai) (0.4.1)\n",
      "Requirement already satisfied: six>=1.5 in /home/zadmin/Desktop/GAAI-B4-Azure/genai/lib/python3.12/site-packages (from python-dateutil>=2.8.2->pandas) (1.17.0)\n"
     ]
    }
   ],
   "source": [
    "!python -m pip install pandas openai"
   ]
  },
  {
   "cell_type": "code",
   "execution_count": 2,
   "id": "fc89ccc7",
   "metadata": {},
   "outputs": [
    {
     "name": "stdout",
     "output_type": "stream",
     "text": [
      "  course_id                                     title  \\\n",
      "0      C001           Foundations of Machine Learning   \n",
      "1      C002   Deep Learning with TensorFlow and Keras   \n",
      "2      C003  Natural Language Processing Fundamentals   \n",
      "3      C004      Computer Vision and Image Processing   \n",
      "4      C005             Reinforcement Learning Basics   \n",
      "\n",
      "                                         description  \n",
      "0  Understand foundational machine learning algor...  \n",
      "1  Explore neural network architectures using Ten...  \n",
      "2  Dive into NLP techniques for processing and un...  \n",
      "3  Learn the principles of computer vision and im...  \n",
      "4  Get introduced to reinforcement learning parad...  \n"
     ]
    }
   ],
   "source": [
    "import pandas as pd\n",
    "\n",
    "# Load the CSV\n",
    "df = pd.read_csv(\"dataset.csv\")\n",
    "print(df.head())"
   ]
  },
  {
   "cell_type": "code",
   "execution_count": null,
   "id": "22cad4c9",
   "metadata": {},
   "outputs": [],
   "source": [
    "from langchain_openai import AzureOpenAIEmbeddings\n",
    "import os\n",
    "\n",
    "# Create embeddings for each description\n",
    "embeddings = AzureOpenAIEmbeddings(\n",
    "    model=\"text-embedding-3-small\",\n",
    ")\n",
    "\n"
   ]
  },
  {
   "cell_type": "code",
   "execution_count": 6,
   "id": "9dacbdba",
   "metadata": {},
   "outputs": [],
   "source": [
    "import chromadb\n",
    "chroma_client = chromadb.Client()"
   ]
  },
  {
   "cell_type": "code",
   "execution_count": 7,
   "id": "7b442b36",
   "metadata": {},
   "outputs": [],
   "source": [
    "collection = chroma_client.create_collection(name=\"course_recommendation\")"
   ]
  },
  {
   "cell_type": "code",
   "execution_count": null,
   "id": "d59030af",
   "metadata": {},
   "outputs": [],
   "source": [
    "df['course_id'] = df.index.astype(str)\n",
    "\n",
    "df['text'] = df['title'] + \". \" + df['description']\n"
   ]
  },
  {
   "cell_type": "code",
   "execution_count": null,
   "id": "02ba09a9",
   "metadata": {},
   "outputs": [],
   "source": [
    "course_ids = df['course_id'].tolist()\n",
    "course_texts = df['text'].tolist()\n",
    "\n",
    "course_embeddings = [embeddings.embed_query(text) for text in course_texts]\n",
    "\n",
    "collection.add(\n",
    "    ids=course_ids,\n",
    "    documents=course_texts,\n",
    "    embeddings=course_embeddings\n",
    ")\n"
   ]
  },
  {
   "cell_type": "code",
   "execution_count": null,
   "id": "b766edf1",
   "metadata": {},
   "outputs": [],
   "source": [
    "from typing import List, Tuple\n",
    "\n",
    "def recommend_courses(profile: str, completed_ids: List[str]) -> List[Tuple[str, float]]:\n",
    "    \"\"\"\n",
    "    Returns top-5 course recommendations based on user profile and completed courses\n",
    "    \"\"\"\n",
    "    profile_embedding = embeddings.embed_query(profile)\n",
    "    \n",
    "    results = collection.query(\n",
    "        query_embeddings=[profile_embedding],\n",
    "        n_results=10 \n",
    "    )\n",
    "    \n",
    "    recommended = []\n",
    "    for course_id, score in zip(results['ids'][0], results['distances'][0]):\n",
    "        if course_id not in completed_ids:\n",
    "            recommended.append((course_id, score))\n",
    "        if len(recommended) >= 5:\n",
    "            break\n",
    "            \n",
    "    return recommended\n"
   ]
  },
  {
   "cell_type": "code",
   "execution_count": null,
   "id": "82db7e7a",
   "metadata": {},
   "outputs": [
    {
     "name": "stdout",
     "output_type": "stream",
     "text": [
      "Top-5 recommendations: [('15', 0.9122487306594849), ('13', 1.105047583580017), ('10', 1.152431607246399), ('16', 1.171453833580017), ('3', 1.2131596803665161)]\n",
      "Python Programming for Data Science - Similarity: 0.9122\n",
      "Data Visualization with Tableau - Similarity: 1.1050\n",
      "Big Data Analytics with Spark - Similarity: 1.1524\n",
      "R Programming and Statistical Analysis - Similarity: 1.1715\n",
      "Computer Vision and Image Processing - Similarity: 1.2132\n"
     ]
    }
   ],
   "source": [
    "profile_text = \"I’ve completed the ‘Python Programming for Data Science’ course and enjoy data visualization.\"\n",
    "completed = ['0'] \n",
    "recommendations = recommend_courses(profile_text, completed)\n",
    "print(\"Top-5 recommendations:\", recommendations)\n",
    "\n",
    "for course_id, score in recommendations:\n",
    "    title = df[df['course_id'] == course_id]['title'].values[0]\n",
    "    print(f\"{title} - Similarity: {score:.4f}\")\n"
   ]
  }
 ],
 "metadata": {
  "kernelspec": {
   "display_name": "genai",
   "language": "python",
   "name": "python3"
  },
  "language_info": {
   "codemirror_mode": {
    "name": "ipython",
    "version": 3
   },
   "file_extension": ".py",
   "mimetype": "text/x-python",
   "name": "python",
   "nbconvert_exporter": "python",
   "pygments_lexer": "ipython3",
   "version": "3.12.3"
  }
 },
 "nbformat": 4,
 "nbformat_minor": 5
}
